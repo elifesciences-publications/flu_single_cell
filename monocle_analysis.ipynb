{
 "cells": [
  {
   "cell_type": "markdown",
   "metadata": {},
   "source": [
    "# Monocle analysis of single-cell sequencing of influenza-infected cells\n",
    "Study by Alistair Russell, [Cole Trapnell](http://cole-trapnell-lab.github.io/), and [Jesse Bloom](https://research.fhcrc.org/bloom/en.html).\n",
    "\n",
    "This notebook starts with the annotated cell-gene matrix, and analyzes the expression of influenza-infected cells in various ways. \n",
    "It primarily does this using [Monocle](http://cole-trapnell-lab.github.io/monocle-release/)​."
   ]
  },
  {
   "cell_type": "markdown",
   "metadata": {},
   "source": [
    "## Setup \n",
    "Load or install necessary packages."
   ]
  },
  {
   "cell_type": "code",
   "execution_count": 1,
   "metadata": {},
   "outputs": [
    {
     "name": "stderr",
     "output_type": "stream",
     "text": [
      "Warning message:\n",
      "“replacing previous import ‘dplyr::union’ by ‘igraph::union’ when loading ‘monocle’”Warning message:\n",
      "“replacing previous import ‘dplyr::as_data_frame’ by ‘igraph::as_data_frame’ when loading ‘monocle’”Warning message:\n",
      "“replacing previous import ‘dplyr::groups’ by ‘igraph::groups’ when loading ‘monocle’”Warning message:\n",
      "“replacing previous import ‘dplyr::%>%’ by ‘igraph::%>%’ when loading ‘monocle’”Warning message:\n",
      "“replacing previous import ‘dplyr::arrange’ by ‘plyr::arrange’ when loading ‘monocle’”"
     ]
    },
    {
     "data": {
      "text/plain": [
       "R version 3.4.0 (2017-04-21)\n",
       "Platform: x86_64-apple-darwin15.6.0 (64-bit)\n",
       "Running under: macOS Sierra 10.12.5\n",
       "\n",
       "Matrix products: default\n",
       "BLAS: /Library/Frameworks/R.framework/Versions/3.4/Resources/lib/libRblas.0.dylib\n",
       "LAPACK: /Library/Frameworks/R.framework/Versions/3.4/Resources/lib/libRlapack.dylib\n",
       "\n",
       "locale:\n",
       "[1] en_US.UTF-8/en_US.UTF-8/en_US.UTF-8/C/en_US.UTF-8/en_US.UTF-8\n",
       "\n",
       "attached base packages:\n",
       " [1] splines   stats4    parallel  stats     graphics  grDevices utils    \n",
       " [8] datasets  methods   base     \n",
       "\n",
       "other attached packages:\n",
       " [1] qlcMatrix_0.9.5     slam_0.1-40         psych_1.7.5        \n",
       " [4] IRdisplay_0.4.4     rmarkdown_1.5       magrittr_1.5       \n",
       " [7] dplyr_0.7.1         reshape2_1.4.2      scales_0.4.1       \n",
       "[10] cowplot_0.7.0       gridExtra_2.2.1     ggExtra_0.6        \n",
       "[13] ggthemes_3.4.0      pacman_0.4.6        monocle_2.5.3      \n",
       "[16] DDRTree_0.1.5       irlba_2.2.1         VGAM_1.0-3         \n",
       "[19] ggplot2_2.2.1       Biobase_2.36.2      BiocGenerics_0.22.0\n",
       "[22] Matrix_1.2-10      \n",
       "\n",
       "loaded via a namespace (and not attached):\n",
       " [1] Rcpp_0.12.11           lattice_0.20-35        rprojroot_1.2         \n",
       " [4] assertthat_0.2.0       digest_0.6.12          mime_0.5              \n",
       " [7] R6_2.2.2               plyr_1.8.4             repr_0.12.0           \n",
       "[10] backports_1.1.0        evaluate_0.10          rlang_0.1.1           \n",
       "[13] lazyeval_0.2.0         uuid_0.1-2             miniUI_0.1.1          \n",
       "[16] combinat_0.0-8         Rtsne_0.13             foreign_0.8-68        \n",
       "[19] stringr_1.2.0          igraph_1.0.1           pheatmap_1.0.8        \n",
       "[22] munsell_0.4.3          shiny_1.0.3            compiler_3.4.0        \n",
       "[25] httpuv_1.3.3           pkgconfig_2.0.1        mnormt_1.5-5          \n",
       "[28] htmltools_0.3.6        tibble_1.3.3           matrixStats_0.52.2    \n",
       "[31] crayon_1.3.2           grid_3.4.0             densityClust_0.2.1    \n",
       "[34] nlme_3.1-131           jsonlite_1.5           xtable_1.8-2          \n",
       "[37] gtable_0.2.0           stringi_1.1.5          bindrcpp_0.2          \n",
       "[40] limma_3.32.2           IRkernel_0.8.6.9000    fastICA_1.2-1         \n",
       "[43] RColorBrewer_1.1-2     tools_3.4.0            glue_1.1.1            \n",
       "[46] HSMMSingleCell_0.110.0 colorspace_1.3-2       cluster_2.0.6         \n",
       "[49] pbdZMQ_0.2-6           knitr_1.16             bindr_0.1             "
      ]
     },
     "metadata": {},
     "output_type": "display_data"
    }
   ],
   "source": [
    "if (suppressMessages((!require(\"monocle\", quietly=TRUE)))) {\n",
    "  source(\"http://bioconductor.org/biocLite.R\", suppressUpdates=TRUE)\n",
    "  biocLite()\n",
    "  biocLite(\"monocle\", suppressWarnings=TRUE)\n",
    "}\n",
    "\n",
    "if (!require(\"pacman\", quietly=TRUE)) \n",
    "  install.packages(\"pacman\")\n",
    "pacman::p_load(\"ggplot2\", \"ggthemes\", \"ggExtra\", \"gridExtra\", \"cowplot\", \"scales\", \"reshape2\", \n",
    "  \"dplyr\", \"magrittr\", \"rmarkdown\", \"IRdisplay\", \"psych\", \"qlcMatrix\")\n",
    " \n",
    "# print information on session\n",
    "sessionInfo()\n",
    "\n",
    "# plots will be saved here\n",
    "plotsdir <- './results/plots/'\n",
    "if (!dir.exists(plotsdir)) \n",
    "  dir.create(plotsdir)    \n",
    "    \n",
    "saveShowPlot <- function(p, width, height) {\n",
    "  # save plot with filename of variable name with dots replaced by _, then show\n",
    "  plotfile <- file.path(plotsdir, sprintf(\"%s.png\", \n",
    "    gsub(\"\\\\.\", \"_\", deparse(substitute(p)))))\n",
    "  ggsave(plotfile, plot=p, width=width, height=height, units=\"in\")\n",
    "  display_png(file=plotfile, width=width * 100)\n",
    "}\n",
    "    \n",
    "fancy_scientific <- function(x, parse.str=TRUE, digits=NULL) {\n",
    "  # scientific notation formatting, based loosely on https://stackoverflow.com/a/24241954\n",
    "  # if `parse.str` is TRUE, then we parse the string into an expression\n",
    "  # `digits` indicates how many digits to include\n",
    "  x %>% format(scientific=TRUE, digits=digits) %>% gsub(\"^0e\\\\+00\",\"0\", .) %>%\n",
    "    gsub(\"^1e\\\\+00\", \"1\", .) %>% gsub(\"^(.*)e\", \"'\\\\1'e\", .) %>% \n",
    "    gsub(\"e\\\\+\",\"e\", .) %>% gsub(\"e\", \"%*%10^\", .) %>%\n",
    "    gsub(\"^\\'1\\'\\\\%\\\\*\\\\%\", \"\", .) %>% {if (parse.str) parse(text=.) else .}\n",
    "}"
   ]
  },
  {
   "cell_type": "markdown",
   "metadata": {},
   "source": [
    "## Create cell-gene dataset, examine basic statistics, filter cells \n",
    "Read in cell-gene data for all samples.\n",
    "This is the merged cell-gene data set constructed with `cellranger` using the iPython notebook.\n",
    "The cells are annotated by the number of wildtype and synonymous-barcoded influenza UMIs called for each cell.\n",
    "\n",
    "After reading the cells, we just get the samples that interest us (right now this is all samples).\n",
    "\n",
    "We then estimate the size factors and dispersions."
   ]
  },
  {
   "cell_type": "code",
   "execution_count": null,
   "metadata": {},
   "outputs": [],
   "source": [
    "matrixfile <- \"results/cellgenecounts/merged_humanplusflu_matrix.mtx\"\n",
    "genesfile <- \"results/cellgenecounts/merged_humanplusflu_genes.tsv\"\n",
    "cellsfile <- \"results/cellgenecounts/merged_humanplusflu_cells.tsv\"\n",
    "\n",
    "all.cells <- newCellDataSet(readMM(matrixfile),\n",
    "  phenoData=new(\"AnnotatedDataFrame\", data=read.delim(cellsfile)),\n",
    "  featureData=new(\"AnnotatedDataFrame\", data=read.delim(genesfile)),\n",
    "  expressionFamily=negbinomial.size())\n",
    "\n",
    "samples <- c(\"Uninfected\", \"6hr-1\", \"8hr-2\", \"8hr-2repeat\", \"10hr-2\")\n",
    "all.cells <- all.cells[, row.names(subset(pData(all.cells), Sample %in% samples))]\n",
    "\n",
    "all.cells <- estimateSizeFactors(all.cells)\n",
    "all.cells <- estimateDispersions(all.cells)"
   ]
  },
  {
   "cell_type": "markdown",
   "metadata": {},
   "source": [
    "Plot the number of cells in each sample."
   ]
  },
  {
   "cell_type": "code",
   "execution_count": null,
   "metadata": {},
   "outputs": [],
   "source": [
    "p.ncells.per.sample <- ggplot(\n",
    "    pData(all.cells) %>% transform(Sample=factor(Sample, samples)) %>% arrange(Sample), \n",
    "    aes(Sample)) + \n",
    "  scale_y_continuous(name=\"number of cells\", expand=c(0.09, 0)) + geom_bar() + \n",
    "  scale_x_discrete(name=NULL) + coord_flip()\n",
    "\n",
    "saveShowPlot(p.ncells.per.sample, width=3.5, height=2.5)"
   ]
  },
  {
   "cell_type": "markdown",
   "metadata": {},
   "source": [
    "Compute the number of total mRNAs, cellular mRNAs, influenza mRNAs, and fraction of influenza mRNAs per cell.\n",
    "Then plot a cumulative distribution plot of the fraction of mRNAs that are from influenza for each sample."
   ]
  },
  {
   "cell_type": "code",
   "execution_count": null,
   "metadata": {},
   "outputs": [],
   "source": [
    "pData(all.cells)$total.mRNAs <- Matrix::colSums(exprs(all.cells))\n",
    "\n",
    "flugenes <- c(\"fluPB2\", \"fluPB1\", \"fluPA\", \"fluHA\", \"fluNP\", \"fluNA\", \"fluM\", \"fluNS\")\n",
    "pData(all.cells)$flu.mRNAs <- Matrix::colSums(exprs(all.cells[\n",
    "  row.names(subset(fData(all.cells), gene_short_name %in% flugenes)),]))\n",
    "\n",
    "pData(all.cells)$cellular.mRNAs <- Matrix::colSums(exprs(all.cells[\n",
    "  row.names(subset(fData(all.cells), !(gene_short_name %in% flugenes))),]))\n",
    "\n",
    "pData(all.cells)$frac.flu.mRNAs <- pData(all.cells)$flu.mRNAs / \n",
    "  pData(all.cells)$total.mRNAs\n",
    "\n",
    "# some trickery around x minimum to avoid taking log of 0 \n",
    "minx <- 1e-4 # minimum value on y-axis\n",
    "pData(all.cells)$log.frac.flu <- ifelse(pData(all.cells)$frac.flu.mRNAs < minx, \n",
    "  log10(minx), log10(pData(all.cells)$frac.flu.mRNAs))\n",
    "\n",
    "p.mRNA.per.cell.cumul <- ggplot(\n",
    "    transform(pData(all.cells), Sample=factor(Sample, samples)), # order by sample \n",
    "    aes(log.frac.flu, color=Sample)) +\n",
    "  stat_ecdf() +\n",
    "  scale_x_continuous(labels=function(x){fancy_scientific(10**x)},\n",
    "    limits=c(log10(minx), 0), expand=c(0, 0), name=\"fraction mRNA from influenza\") +\n",
    "  scale_y_continuous(limits=c(0, 1), name=\"fraction of cells\") + \n",
    "  theme(axis.text.x=element_text(vjust=0.2))\n",
    "\n",
    "saveShowPlot(p.mRNA.per.cell.cumul, width=4, height=2.5)"
   ]
  },
  {
   "cell_type": "markdown",
   "metadata": {},
   "source": [
    "The `Monocle` vignette suggests filtering cells with far more / less mRNAs than most cells.\n",
    "I have done that leniently, allowing cells to have substantially more or less than the mean number of mRNAs per cells.\n",
    "The reason that the filtering on mRNA abundance is so lenient is because many of the strongly influenza-infected cells tend to have more mRNAs than typical cells.\n",
    "This fact is made more clear by the next plot, which shows that cells with >1% of their mRNAs from influenza tend to have more total mRNAs than other cells.\n",
    "I can think of several possible explanations:\n",
    "\n",
    "  1. Influenza preferentially infects bigger cells.\n",
    "\n",
    "  2. Influenza infection leads cells to produce more mRNAs.\n",
    "\n",
    "  2. Influenza infection preferentially causes \"doublets\"\" due to cell clumping, perhaps mediated by hemagglutinin-based cross-linking of cells.\n",
    "\n",
    "In any case, it seems safer to filter leniently.\n",
    "In the plot below, the vertical gray lines show the lower and upper bounds on mRNA number applied to each sample.\n",
    "There is a sample-specific cutoff since different samples were sequenced to different depth."
   ]
  },
  {
   "cell_type": "code",
   "execution_count": null,
   "metadata": {},
   "outputs": [],
   "source": [
    "# set upper and lower bounds as range around mean for each sample\n",
    "pData(all.cells)$sample.mean.mRNAs <- pData(all.cells) %>% group_by(Sample) %>% \n",
    "  mutate(mean=mean(total.mRNAs)) %>% ungroup %>% select(mean) %>% unlist\n",
    "pData(all.cells)$lower.bound <- pData(all.cells)$sample.mean.mRNAs / 2.7\n",
    "pData(all.cells)$upper.bound <- pData(all.cells)$sample.mean.mRNAs * 2.7\n",
    "\n",
    "# print table of upper and lower bounds for each sample\n",
    "pData(all.cells) %>% group_by(Sample) %>% summarize(mean=first(sample.mean.mRNAs), \n",
    "  lower.bound=first(lower.bound), upper.bound=first(upper.bound)) \n",
    "\n",
    "# classify cells with more and less than 0.5% flu mRNAs\n",
    "pData(all.cells)$frac.flu.0.005 <- ifelse(pData(all.cells)$frac.flu.mRNAs > 0.005,\n",
    "  \"more than 0.5%\", \"less than 0.5%\")\n",
    "\n",
    "# plot density of mRNAs per cell with cutoffs shown but not yet applied\n",
    "p.mRNA.density <- ggplot(\n",
    "    transform(pData(all.cells), Sample=factor(Sample, samples)), \n",
    "    aes(total.mRNAs, color=frac.flu.0.005, fill=frac.flu.0.005)) +\n",
    "  geom_density(alpha=0.1, aes(y=..scaled..)) +\n",
    "  theme(axis.text.x=element_text(angle=90, vjust=0.5, hjust=1), legend.position=\"top\") +\n",
    "  scale_y_continuous(label=NULL, name=\"density of cells\", breaks=NULL, limits=c(0, NA)) +\n",
    "  scale_x_continuous(limits=c(0, NA)) +\n",
    "  xlab(\"total mRNAs per cell\") +\n",
    "  labs(color=\"mRNAs from influenza:\", fill=\"mRNAs from influenza:\") +\n",
    "  geom_vline(aes(xintercept=lower.bound), color=\"gray40\") +\n",
    "  geom_vline(aes(xintercept=upper.bound), color=\"gray40\") +\n",
    "  facet_wrap(~Sample, nrow=1, scales=\"free_y\")\n",
    "\n",
    "saveShowPlot(p.mRNA.density, width=9, height=3)\n",
    "\n",
    "# now apply cutoffs on mRNA abundance to cells\n",
    "cells <- all.cells[, row.names(subset(pData(all.cells), \n",
    "    total.mRNAs > lower.bound & total.mRNAs < upper.bound))]"
   ]
  },
  {
   "cell_type": "markdown",
   "metadata": {},
   "source": [
    "Now that we have filtered the cells, plot the number of influenza mRNAs versus the number of cellular RNAs.\n",
    "The blue curves show the overall density of the number of cellular mRNAs."
   ]
  },
  {
   "cell_type": "code",
   "execution_count": null,
   "metadata": {},
   "outputs": [],
   "source": [
    "scatterplot <- ggplot(\n",
    "    transform(pData(cells), Sample=factor(Sample, levels=samples)), # order by sample\n",
    "    aes(cellular.mRNAs, flu.mRNAs)) +\n",
    "  geom_point(alpha=0.4)\n",
    "\n",
    "# use eval substitute to get value of maxy as here: https://stackoverflow.com/a/10659563\n",
    "densityplot <- eval(substitute(\n",
    "  {stat_density(aes(x=cellular.mRNAs, y=maxy*(..scaled..)), geom=\"line\", color='blue')},\n",
    "  list(maxy=layer_scales(scatterplot)$y$range$range[2])))\n",
    "\n",
    "p.flu.vs.cell <- scatterplot + densityplot + \n",
    "  theme(axis.text.x=element_text(angle=90, vjust=0.5, hjust=1)) +\n",
    "  facet_wrap(~Sample, nrow=1) + xlab(\"cellular mRNAs per cell\") + \n",
    "  ylab(\"influenza\\nmRNAs per cell\")\n",
    "\n",
    "saveShowPlot(p.flu.vs.cell, width=9, height=2.5)"
   ]
  },
  {
   "cell_type": "markdown",
   "metadata": {},
   "source": [
    "Make a summary plot merging all these panels. \n",
    "This is designed to be a publication-quality figure."
   ]
  },
  {
   "cell_type": "code",
   "execution_count": null,
   "metadata": {},
   "outputs": [],
   "source": [
    "p.cell.mRNA.summary <- plot_grid(\n",
    "  plot_grid(p.ncells.per.sample, p.mRNA.per.cell.cumul, ncol=2, align='h', \n",
    "    labels=c(\"A\", \"B\"), label_size=16, vjust=-0.2, scale=0.9),\n",
    "  plot_grid(p.mRNA.density, p.flu.vs.cell, ncol=1, align='v', labels=c(\"C\", \"D\"),\n",
    "    rel_heights=c(1.25, 1), label_size=16, scale=0.95),\n",
    "  ncol=1, rel_heights=c(1, 2.7)\n",
    "  )\n",
    "\n",
    "saveShowPlot(p.cell.mRNA.summary, width=9, height=8)"
   ]
  },
  {
   "cell_type": "markdown",
   "metadata": {},
   "source": [
    "## Look at levels of influenza genes, use synonymous barcodes to detect true infection / co-infection versus mRNA leakage, filter cells\n",
    "Roughly half of the infecting influenza viruses had a synonymous barcode at the 3' end of each mRNA.\n",
    "If cells infected by a single virus (which we expect to be the most common case for infected cells since infection itself is rare), then they should generally have either all wildtype or all synonymously barcoded viruses.\n",
    "Looking for deviations from this expectation can identify both true infection / co-infection and cells that just got some influenza mRNA by leakage, since such leakage is expected to introduce a mix of both wildtype and synonymously barcoded.\n",
    "Establishing when cells start to have influenza mRNA due to true infection versus simple leakage is important for figuring identifying truly infected cells.\n",
    "\n",
    "Note that we have counted influenza mRNAs from the standard 10X sequencing of the full transcriptome.\n",
    "However, we have also called the synonymous versus wildtype barcodes using some extra semi-specific PCR which is not included in the cell-gene count data due to the fact that it is biased towards some genes, but does provide extra depth on the barcode counts.\n",
    "We limit the analysis below to cells that meet the following criteria:\n",
    "\n",
    "  1. They have at least two influenza reads in the cell-gene matrix.\n",
    "\n",
    "  2. They have at least two called barcodes (synonymous or wildtype) in the cell-gene matrix plus extra semi-specific PCR.\n",
    "\n",
    "These criteria are a way to limit the analysis just to cells where there is actual information about the synonymous barcodes.\n",
    "First, we filter down to these cells and plot some information about them.\n",
    "Note that these plots show the number of influenza mRNAs on a log scale, and then color the bars by the fraction of reads from each barcode.\n",
    "So the heights of each color in the bars are proportional to the fraction of the reads with that barcode, they are **not** the log of the number of reads with each barcode."
   ]
  },
  {
   "cell_type": "code",
   "execution_count": null,
   "metadata": {},
   "outputs": [],
   "source": [
    "# filter on sufficiently barcoded cells and samples with such cells\n",
    "bc.cells <- filter(pData(cells), flu.mRNAs >= 2, flu.wt + flu.syn >= 2)\n",
    "samples.to.plot <- bc.cells[[\"Sample\"]] %>% unlist %>% unique\n",
    "\n",
    "# make variables with product of log flu mRNAs times fraction with each barcode\n",
    "bc.cells <- bc.cells %>% mutate(frac.wt=(flu.wt / (flu.wt + flu.syn))) %>%\n",
    "  mutate(wildtype=log10(flu.mRNAs) * frac.wt, \n",
    "    synonymous=log10(flu.mRNAs) * (1 - frac.wt)) %>%\n",
    "  mutate(major=pmax(wildtype, synonymous), minor=pmin(wildtype, synonymous))\n",
    "\n",
    "# make some dummy rows with 0 or many influenza to \"pad\" between samples on the plot\n",
    "npad <- 5 # pad this many cells on each side of each sample\n",
    "bc.cells.padded <- lapply(samples.to.plot, function(s) {data.frame(Sample=rep(s , 2 * npad), \n",
    "    flu.mRNAs=c(rep(0, npad), rep(1e8, npad)))}) %>%\n",
    "  bind_rows(., bc.cells) %>% mutate_each(funs(replace(., is.na(.), 0)))\n",
    "\n",
    "# order bc_cells by sample and flu abundance\n",
    "bc.cells.padded$Sample <- factor(bc.cells.padded$Sample, samples.to.plot)\n",
    "bc.cells.padded <- arrange(bc.cells.padded, Sample, flu.mRNAs)\n",
    "bc.cells.padded$indx <- as.numeric(row.names(bc.cells.padded))\n",
    "\n",
    "# get min and max indx for each sample\n",
    "indxrange <- bc.cells.padded %>% filter(major > 0) %>% group_by(Sample) %>% \n",
    "  summarize(imax=max(indx), imin=min(indx)) %>%\n",
    "  mutate(center=(imin + imax) / 2, label=sprintf(\"%s\\n(%d cells)\", Sample, imax - imin + 1))\n",
    "\n",
    "purityplot <- function (barcodes) {\n",
    "  # plot purity of barcoded cells using barcode type specified by *barcodes*\n",
    "  ggplot(melt(bc.cells.padded, id.vars=c(\"indx\", \"Sample\"), measure.vars=barcodes, \n",
    "      variable.name=\"barcode\"),\n",
    "    aes(x=indx, y=value)) +\n",
    "  geom_bar(aes(fill=barcode), stat=\"identity\", position=\"stack\", width=1) +\n",
    "  scale_y_continuous(name=\"influenza mRNAs\", expand=c(0, 0), \n",
    "    labels=function(y){fancy_scientific(10**y)}) +\n",
    "  scale_x_continuous(expand=c(0, 0), name=NULL, breaks=indxrange$center, labels=indxrange$label) +\n",
    "  theme(axis.ticks.x=element_blank(), legend.position=c(0, 1),\n",
    "    legend.justification=c(0, 1), legend.direction=\"horizontal\",\n",
    "    legend.background=element_rect(fill=\"white\", size=0.5, linetype=\"solid\", color=\"black\")) +\n",
    "  scale_fill_discrete(\"\") +\n",
    "  geom_rect(data=data.frame(xmin=indxrange$imin[seq(2, nrow(indxrange), 2)] - npad,\n",
    "    xmax=indxrange$imax[seq(2, nrow(indxrange), 2)] + npad, ymin=-Inf, ymax=Inf),\n",
    "    aes(xmin=xmin, xmax=xmax, ymin=ymin, ymax=ymax), alpha=0.1, inherit.aes=FALSE)\n",
    "}\n",
    "\n",
    "p.wt.syn <- purityplot(c(\"wildtype\", \"synonymous\"))\n",
    "p.major.minor <- purityplot(c(\"major\", \"minor\"))\n",
    "p.barcode.purity <- plot_grid(p.wt.syn + theme(axis.text.x=element_blank()),\n",
    "  p.major.minor + scale_fill_manual(values=c(\"darkmagenta\", \"gold\"), name=NULL),\n",
    "  nrow=2, align='h', labels=c(\"A\", \"B\"), label_size=16, vjust=1)\n",
    "\n",
    "saveShowPlot(p.barcode.purity, width=9, height=4.7)"
   ]
  },
  {
   "cell_type": "markdown",
   "metadata": {
    "collapsed": true
   },
   "source": [
    "Now let's try to find a good cutoff for the fraction of influenza reads per cell that seems to indicate true infection rather than co-infection.\n",
    "To do this, we continue to subset on the cells with at least 2 influenza reads and 2 called wildtype / synonymous barcodes.\n",
    "For each fraction of influenza reads per cell, we then calculate the mean barcode purity in cells with > this fraction of influenza reads. \n",
    "The goal is to find a lowest cutoff at which higher fraction of influenza reads doesn't lead to substantially higher purity.\n",
    "This indicates that we have reached the point where most of the mixing that we are detecting is due to true co-infection, rather than cells that simply have \"leaked\" influenza reads.\n",
    "\n",
    "We find the cutoff by fitting a smoothed loess line to the mean purity as a function of the cutoff, and then drawing the line a bit above where the derivative of that smoothed loess line becomes zero.\n",
    "\n",
    "Looking at the plots above, it's clear that the cutoff should be higher for the samples with more influenza infection, since those samples clearly have more leakage. \n",
    "However, to be conservative we compute a cutoff using the sample with the **most** influenza mRNAs in infected cells (this sample will have the most leakage and so the highest cutoff), and then apply this cutoff to all samples.\n",
    "This approach is conservative in the sense that we are making the cutoff a bit higher than needed for the lower-influenza samples.\n",
    "However, this seems safer than estimating a different cutoff for each sample, as the lower number of cells with multiple barcoded mRNAs for the lower-influenza samples makes it harder to estimate a reliable cutoff for these samples."
   ]
  },
  {
   "cell_type": "code",
   "execution_count": null,
   "metadata": {},
   "outputs": [],
   "source": [
    "# get the sample with the most flu positive cells, compute purity cutoff on it\n",
    "sample.most.flu <- bc.cells %>% group_by(Sample) %>% summarise(cells=n()) %>% \n",
    "  arrange(cells) %>% tail(n=1) %>% .$Sample %>% sprintf(\"%s\", .) \n",
    "cat(\"Computing purity cutoff for sample with most influenza,\", sample.most.flu)\n",
    "bc.cells <- filter(bc.cells, Sample == sample.most.flu)\n",
    "\n",
    "# compute purity to only out this far, as curve has flattened by about 50th percentile\n",
    "frac.flu <- bc.cells$frac.flu.mRNAs %>% sort %>% head(-as.integer(0.35 * nrow(bc.cells)))\n",
    "\n",
    "# mean of major barcode frequency with cells <= indication fraction flu\n",
    "bc.cells <- mutate(bc.cells, purity=pmax(wildtype, synonymous) / (wildtype + synonymous))\n",
    "purity <- data.frame(frac.flu)\n",
    "purity$mean <- lapply(frac.flu, function (f) {bc.cells %>% filter(frac.flu.mRNAs > f) %>% \n",
    "  select(purity) %>% as.vector %>% unlist %>% mean}) %>% unlist\n",
    "\n",
    "# threshold where derivative of purity with respect to fraction flu stops being positive\n",
    "deriv.purity <- loess(mean~frac.flu, data=purity) %$% fitted %>% diff\n",
    "i.threshold <- which(deriv.purity <= 0) %>% min  \n",
    "threshold.frac <- frac.flu[i.threshold] * 1.5\n",
    "\n",
    "# plot the data and threshold line\n",
    "p.purity.threshold <- ggplot(purity, \n",
    "    aes(x=frac.flu, y=mean)) + geom_point(size=1, alpha=0.4) + \n",
    "  scale_y_continuous(name=\"mean purity\", \n",
    "    limits=c(min(purity$mean), max(purity$mean))) +\n",
    "  scale_x_continuous(name=sprintf(\"min frac influenza (%s)\", sample.most.flu), \n",
    "    labels=fancy_scientific, breaks=pretty_breaks(n=2)) +\n",
    "  theme(axis.text.x=element_text(vjust=0.2)) +\n",
    "  geom_vline(xintercept=threshold.frac, color=\"red\", linetype=\"dashed\") + \n",
    "  geom_text(aes(threshold.frac, mean(c(min(purity$mean), max(purity$mean))), \n",
    "      label=fancy_scientific(threshold.frac, parse.str=FALSE, digits=2), hjust=-0.05), \n",
    "    parse=TRUE, color=\"red\")\n",
    "\n",
    "saveShowPlot(p.purity.threshold, width=4, height=3)"
   ]
  },
  {
   "cell_type": "markdown",
   "metadata": {},
   "source": [
    "Now we can annotate cells as *infected* based on whether they have more than this threshold fraction of reads from influenza.\n",
    "\n",
    "We also annotate cells as *coinfected* if they have **both**:\n",
    "\n",
    "  1. More than the threshold fraction of reads from their minor barcode (where the threshold fraction is defined as the above amount giving the fraction of influenza reads needed to consider that we have a \"true\" infection).\n",
    "  2. More than 5% of their barcoded influenza reads from their minor barcode. \n",
    "  \n",
    "We also annotate cells as *fully.infected* if they are *infected* and have at least one of each influenza mRNA.\n",
    "  \n",
    "Note that we do not expect to identify all of the co-infected cells. \n",
    "Even if the wildtype and synonymously barcoded viruses are mixed at exactly equal ratios, we expect half of the co-infected cells to receive two of the same virus barcode, and so be undetectably co-infected.\n",
    "\n",
    "We then plot the distribution of influenza reads per cell among the clearly infected or co-infected cells for each sample."
   ]
  },
  {
   "cell_type": "code",
   "execution_count": null,
   "metadata": {},
   "outputs": [],
   "source": [
    "# annotate cells as infected or coinfected\n",
    "coinfect.threshold <- 0.05 # coinfected requires >= this fraction minor barcode \n",
    "pData(cells)$infected <- pData(cells)$frac.flu.mRNAs > threshold.frac\n",
    "pData(cells)$minor <- pmin(pData(cells)$flu.wt, pData(cells)$flu.syn) /\n",
    "  (pData(cells)$flu.wt + pData(cells)$flu.syn)\n",
    "pData(cells)$minor <- ifelse(is.na(pData(cells)$minor), 0, pData(cells)$minor)\n",
    "pData(cells)$n.minor <- pData(cells)$minor * pData(cells)$flu.mRNAs\n",
    "pData(cells)$coinfected <- pData(cells)$infected & \n",
    "  (pData(cells)$minor > coinfect.threshold) & (pData(cells)$n.minor > threshold.frac)\n",
    "\n",
    "# we also annotate cells by number of each flu mRNA and whether they are fully infected\n",
    "pData(cells)$fully.infected <- pData(cells)$infected \n",
    "for (g in flugenes) {\n",
    "  pData(cells)[[g]] <- Matrix::colSums(exprs(cells[\n",
    "    row.names(subset(fData(cells), gene_short_name == g)),]))\n",
    "  pData(cells)$fully.infected <- pData(cells)$fully.infected & as.logical(pData(cells)[[g]])\n",
    "} \n",
    "\n",
    "# plot number of infected / co-infected cells\n",
    "xlabeler <- function(x) {ifelse(x%%1, sprintf(\"%.1f\", x), sprintf(\"%d\", x))}\n",
    "p.frac.flu <- ggplot(\n",
    "    pData(cells) %>% filter(infected) %>%  \n",
    "      mutate(infection=ifelse(coinfected, \"coinfected\", \"infected\")) %>%\n",
    "      transform(infection=factor(infection, c(\"infected\", \"coinfected\")),\n",
    "        Sample=factor(Sample, samples)) %>% \n",
    "      arrange(Sample, infection), \n",
    "    aes(frac.flu.mRNAs, fill=infection)) + \n",
    "  geom_histogram(bins=18) + facet_wrap(~Sample, nrow=1) + scale_fill_discrete(\"\") +\n",
    "  scale_y_continuous(name=\"number of cells\") + \n",
    "  scale_x_continuous(name=\"fraction mRNA from influenza\", labels=xlabeler, expand=c(0.1, 0))\n",
    "\n",
    "saveShowPlot(p.frac.flu, width=9, height=2.25)"
   ]
  },
  {
   "cell_type": "markdown",
   "metadata": {},
   "source": [
    "We have a very large number of uninfected cells and a very small number of infected ones.\n",
    "If we work with this entire dataset, it will therefore be heavily dominated by the uninfected cells.\n",
    "We will therefore subsample the uninfected cells to get a more balanced composition of the different types of cells. \n",
    "Specifically, we subsample as follows:\n",
    "  1. We keep **all** of the *infected* cells based on the threshold described above (as well as all the *coinfected* ones, which are a subset of the *infected* ones).\n",
    "  2. We then keep a fraction of the *uninfected* cells. We choose the *uninfected* cells to retain for each *Sample* as follows:\n",
    "    1. We set a number of *uninfected* cells to retain that is equal to the larger of the number of infected cells for that *Sample* or 50.\n",
    "    2. We order the *uninfected* cells by the amount of influenza mRNA (recall that even the uninfected cells may have a bit due to leakage), and preferentially choose our cells with the lowest amount of influenza mRNA to ensure that we're getting truly uninfected cells. Usually this means that we choose cells with no influenza mRNA, although for samples with higher influenza burden there could still be a few if there aren't enough cells with no influenza mRNA.\n",
    "\n",
    "Below we make these selections, and then tabulate the number of cells in each category."
   ]
  },
  {
   "cell_type": "code",
   "execution_count": null,
   "metadata": {},
   "outputs": [],
   "source": [
    "# get uninfected cells to keep; first assign original row names \n",
    "uninfected.cells <- pData(cells) %>% (tibble::rownames_to_column) %>% filter(!infected)\n",
    "# set seed to make reproducible, re-shuffle rows, sort so lowest flu first\n",
    "set.seed(1) \n",
    "uninfected.cells <- uninfected.cells[sample(nrow(uninfected.cells)),] %>% \n",
    "  arrange(flu.mRNAs)\n",
    "rows.to.keep <- c()\n",
    "# now select uninfected cells for each sample\n",
    "for (s in samples) {\n",
    "  n <- max(50, nrow(pData(cells) %>% filter(Sample == s, infected)))\n",
    "  s.rows.to.keep <- uninfected.cells %>% filter(Sample == s) %>% head(n=n) %$% rowname\n",
    "  rows.to.keep <- c(rows.to.keep, s.rows.to.keep)\n",
    "}\n",
    "\n",
    "# annotate as uninfected the uninfected cells that we are keeping\n",
    "pData(cells)$uninfected <- FALSE\n",
    "pData(cells)[rows.to.keep, which(colnames(pData(cells)) == \"uninfected\")] <- TRUE\n",
    "\n",
    "# summarize number of cells in each category by sample\n",
    "infected.summary <- pData(cells) %>% group_by(Sample) %>% \n",
    "  summarise(cells=n(), infected=sum(infected), coinfected=sum(coinfected), \n",
    "    uninfected.kept=sum(uninfected)) %>%\n",
    "  mutate(coinfected=ifelse(is.na(coinfected), 0, coinfected)) %>% \n",
    "  transform(Sample=factor(Sample, samples)) %>% arrange(Sample) \n",
    "names(infected.summary) <- gsub('\\\\.', ' ', names(infected.summary))\n",
    "infected.summary\n",
    "\n",
    "# keep all infected cells\n",
    "rows.to.keep <- c(rows.to.keep, pData(cells) %>% subset(infected) %>% row.names)\n",
    "\n",
    "# select the cells we are keeping\n",
    "cells <- cells[, rows.to.keep]"
   ]
  },
  {
   "cell_type": "markdown",
   "metadata": {},
   "source": [
    "Finally, we merge these plots / tables with the ones aboved used to call infection / co-infection into a publication-quality figure."
   ]
  },
  {
   "cell_type": "code",
   "execution_count": null,
   "metadata": {},
   "outputs": [],
   "source": [
    "# blank to fill space\n",
    "blank <- ggplot() + geom_blank(aes(1,1)) + theme_nothing()\n",
    "\n",
    "# layout in one nice figure\n",
    "p.frac.flu.summary <- plot_grid(\n",
    "  p.barcode.purity, \n",
    "  plot_grid(p.purity.threshold, blank, infected.summary %>% tableGrob(rows=NULL), scale=0.93, \n",
    "    labels=c(\"C\", \"\", \"D\"), label_size=16, vjust=1, nrow=1, rel_widths=c(0.8, 0.1, 1.4)), \n",
    "  p.frac.flu,\n",
    "  labels=c(\"\", \"\", \"E\"), label_size=16, vjust=1, ncol=1, \n",
    "  rel_heights=c(1, 0.51, 0.48), scale=0.97)\n",
    "\n",
    "saveShowPlot(p.frac.flu.summary, width=9, height=9.5)"
   ]
  },
  {
   "cell_type": "markdown",
   "metadata": {
    "collapsed": true
   },
   "source": [
    "## Filter the set of genes to consider further"
   ]
  },
  {
   "cell_type": "markdown",
   "metadata": {},
   "source": [
    "We will only focus on genes that are expressed at a meaningful level.\n",
    "First, we filter out genes that are not expressed in any cells."
   ]
  },
  {
   "cell_type": "code",
   "execution_count": null,
   "metadata": {
    "collapsed": true
   },
   "outputs": [],
   "source": [
    "cells <- detectGenes(cells)\n",
    "cells <- cells[row.names(subset(fData(cells), num_cells_expressed > 0)), ]"
   ]
  },
  {
   "cell_type": "markdown",
   "metadata": {},
   "source": [
    "Now for each gene we get the maximum expression in any cell, and annotate whether the gene is viral or cellular.\n",
    "For cellular genes, we also annotate whether it is a type I interferon based on whether the name starts with IFN.\n",
    "Finally, we annotate cells by how many of these IFN mRNAs they are expressing."
   ]
  },
  {
   "cell_type": "code",
   "execution_count": null,
   "metadata": {},
   "outputs": [],
   "source": [
    "# get max expression in any cell\n",
    "fData(cells)$max.expression <- cells %>% exprs %>% (qlcMatrix::rowMax) %>% as.double\n",
    "\n",
    "# Annotate mRNA source as influenza, IFN, or cellular\n",
    "# We look for IFN alpha, beta, and lambda but not receptors\n",
    "ifngenes <- grep(\"^IFN[ABL][^R]\", fData(cells)$gene_short_name, value=TRUE)\n",
    "cat(\"Annotating the following genes as IFN:\", ifngenes)\n",
    "fData(cells)$source <- ifelse(fData(cells)$gene_short_name %in% flugenes, \n",
    "  \"influenza\", ifelse(fData(cells)$gene_short_name %in% ifngenes, \"IFN\", \"cellular\"))\n",
    "\n",
    "# number of IFN mRNAs per cell\n",
    "pData(cells)$IFN.mRNAs <- Matrix::colSums(exprs(cells[row.names(subset(fData(cells), \n",
    "  gene_short_name %in% ifngenes)),]))"
   ]
  },
  {
   "cell_type": "markdown",
   "metadata": {},
   "source": [
    "We then plot the number of cells that express a gene versus its maximum expression. \n",
    "\n",
    "The Monocle vignette suggests only filtering for genes that are expressed in some reasonable fraction of cells.\n",
    "But as is clear from the plot, below there are some genes that are substantially expressed in only a few (or in some cases even just one) cell, but are clearly biologically significant as they are either type I interferons or influenza genes. \n",
    "So instead, we filter the genes based on the **maximum** expression of a gene in any cell.\n",
    "The gray line shows the filter; we only consider genes to the right of this gray line."
   ]
  },
  {
   "cell_type": "code",
   "execution_count": null,
   "metadata": {},
   "outputs": [],
   "source": [
    "max.expr.cutoff = 4 # only consider genes with more than this much max expression\n",
    "\n",
    "p.maxexpr.ncells <- ggplot(fData(cells), \n",
    "    aes(max.expression, num_cells_expressed, color=source)) + \n",
    "  geom_point(alpha=0.4) + scale_x_log10(name=\"max expression in any cell\") + \n",
    "  scale_y_log10(name=\"num cells expressed\") +   \n",
    "  geom_vline(aes(xintercept=max.expr.cutoff), color=\"gray40\")\n",
    "p.maxexpr.ncells <- ggMarginal(p.maxexpr.ncells, margins=\"x\", color=\"blue\") \n",
    "\n",
    "saveShowPlot(p.maxexpr.ncells, width=5, height=3)\n",
    "\n",
    "cells <- cells[row.names(subset(fData(cells), max.expression > max.expr.cutoff)), ]"
   ]
  },
  {
   "cell_type": "markdown",
   "metadata": {},
   "source": [
    "The Monocle vignette suggests verifying that the expression values follow a roughly log-normal distribution.\n",
    "This next plot follows the vignette to verify that."
   ]
  },
  {
   "cell_type": "code",
   "execution_count": null,
   "metadata": {},
   "outputs": [],
   "source": [
    "L <- log(exprs(cells))\n",
    "melted_dens_df <- melt(Matrix::t(scale(Matrix::t(L))))\n",
    "\n",
    "p.lognormal.expr <- qplot(value, geom=\"density\", data=melted_dens_df) + \n",
    "  stat_function(fun = dnorm, size=0.5, color='red') + \n",
    "  xlab(\"standardized log(mRNAs)\") + ylab(\"density\")\n",
    "\n",
    "saveShowPlot(p.lognormal.expr, width=3, height=2)"
   ]
  },
  {
   "cell_type": "markdown",
   "metadata": {},
   "source": [
    "## Classify cell types\n",
    "We create a cell-type hierarchy as outlined in the Monocle vignette.\n",
    "\n",
    "We first create a classification for cells infected with any virus using the threshold above, then also classifications for cells with at least 2% and 20% of their reads from inlfuenza. \n",
    "We also classify as *uninfected* any cells with **no** influenza mRNAs."
   ]
  },
  {
   "cell_type": "code",
   "execution_count": null,
   "metadata": {
    "collapsed": true
   },
   "outputs": [],
   "source": [
    "cth <- newCellTypeHierarchy()\n",
    "\n",
    "flugenes.id <- row.names(subset(fData(cells), gene_short_name %in% flugenes))\n",
    "cth <- addCellType(cth, \"infected\", classify_func=function(x) {\n",
    "  Matrix::colSums(x[flugenes.id, ]) / Matrix::colSums(x) > threshold.frac})\n",
    "cth <- addCellType(cth, \"infected > 2%\", classify_func=function(x) {\n",
    "  Matrix::colSums(x[flugenes.id, ]) / Matrix::colSums(x) > 0.02},\n",
    "  parent_cell_type_name=\"infected\")\n",
    "cth <- addCellType(cth, \"infected > 20%\", classify_func=function(x) {\n",
    "  Matrix::colSums(x[flugenes.id, ]) / Matrix::colSums(x) > 0.20},\n",
    "  parent_cell_type_name=\"infected > 2%\")\n",
    "cth <- addCellType(cth, \"uninfected\", classify_func=function(x) {\n",
    "  Matrix::colSums(x[flugenes.id, ]) == 0})"
   ]
  },
  {
   "cell_type": "markdown",
   "metadata": {},
   "source": [
    "Now classify the cells according to the cell type hierarchy."
   ]
  },
  {
   "cell_type": "code",
   "execution_count": null,
   "metadata": {},
   "outputs": [],
   "source": [
    "cells <- classifyCells(cells, cth)\n",
    "table(pData(cells)$CellType)"
   ]
  },
  {
   "cell_type": "markdown",
   "metadata": {},
   "source": [
    "## Unsupervised clustering of the cells\n",
    "As in the Monocle vignette, we now perform unsupervised clustering.\n",
    "This does not appear to yield anything useful, but we do it anyway as tSNE plots seem to be a standard thing that people show.\n",
    "\n",
    "First, we filter on the genes to use in the clustering. \n",
    "We use a slightly more lenient cutoff than in the Monocle vignette for *mean_expression=0.1*.\n",
    "We then plot the dispersion versus the mean expression, and the variance explained by each component.\n",
    "Next, we plot the variance explained by each component.\n",
    "Finally, we make the tSNE plot while regressing out sample and number of genes for batch effect.\n",
    "\n",
    "The resulting tSNE plot seems only modestly useful. \n",
    "It partially separates infected and uninfected cells, but not that well."
   ]
  },
  {
   "cell_type": "code",
   "execution_count": null,
   "metadata": {},
   "outputs": [],
   "source": [
    "disp_table <- dispersionTable(cells)\n",
    "unsup_clustering_genes <- subset(disp_table, mean_expression > 0.05)\n",
    "cells <- setOrderingFilter(cells, unsup_clustering_genes$gene_id)\n",
    "\n",
    "p.unsup.disp.vs.expr <- plot_ordering_genes(cells) + scale_x_log10(labels=fancy_scientific)\n",
    "\n",
    "p.unsup.pc.variance <- plot_pc_variance_explained(cells, return_all=FALSE)\n",
    "\n",
    "cells <- reduceDimension(cells, max_components=2, num_dim=6, \n",
    "  reduction_method='tSNE', verbose=TRUE, \n",
    "  residualModelFormulaStr=\"~Sample + num_genes_expressed\")\n",
    "cells <- clusterCells(cells, num_clusters=2)\n",
    "p.unsup.tsne <- plot_cell_clusters(cells, color=\"CellType\") + \n",
    "  guides(color=guide_legend(ncol=1)) + theme(legend.position=\"right\")\n",
    "\n",
    "p.unsup.tsne.merge <- plot_grid(p.unsup.disp.vs.expr, p.unsup.pc.variance, p.unsup.tsne,  \n",
    "  nrow=1, labels=\"AUTO\", vjust=-0.2, label_size=16, align='h', scale=0.93, \n",
    "  rel_widths=c(1, 1, 1.5))\n",
    "\n",
    "saveShowPlot(p.unsup.tsne.merge, width=10, height=3)"
   ]
  },
  {
   "cell_type": "markdown",
   "metadata": {},
   "source": [
    "## Supervised clustering of the genes\n",
    "Now we'll re-do the tSNE clustering but use supervised clustering as in the Monocle vignette.\n",
    "The supervised clustering is somewhat better than the unsupervised in terms of separating the populations."
   ]
  },
  {
   "cell_type": "code",
   "execution_count": null,
   "metadata": {},
   "outputs": [],
   "source": [
    "marker_diff <- markerDiffTable(cells, cth, \n",
    "  residualModelFormulaStr=\"~Sample + num_genes_expressed\", cores=detectCores())\n",
    "\n",
    "candidate_clustering_genes <- subset(marker_diff, qval < 0.01) %>% row.names\n",
    "marker_spec <- calculateMarkerSpecificity(cells[candidate_clustering_genes, ], cth)\n",
    "semisup_clustering_genes <- selectTopMarkers(marker_spec, 100) %$% gene_id %>% unique \n",
    "cells <- setOrderingFilter(cells, semisup_clustering_genes)\n",
    "\n",
    "p.sup.disp.vs.expr <- plot_ordering_genes(cells) + scale_x_log10(labels=fancy_scientific)\n",
    "\n",
    "p.sup.pc.variance <- plot_pc_variance_explained(cells, return_all=FALSE)\n",
    "\n",
    "cells <- reduceDimension(cells, max_components=2, num_dim=6, \n",
    "  reduction_method='tSNE', verbose=TRUE, norm_method='log', \n",
    "  residualModelFormulaStr=\"~Sample + num_genes_expressed\")\n",
    "cells <- clusterCells(cells, num_clusters=2)\n",
    "p.sup.tsne <- plot_cell_clusters(cells, color=\"CellType\") + \n",
    "  guides(color=guide_legend(ncol=1)) + theme(legend.position=\"right\")\n",
    "\n",
    "p.sup.tsne.merge <- plot_grid(p.sup.disp.vs.expr, p.sup.pc.variance, p.sup.tsne,  \n",
    "  nrow=1, labels=\"AUTO\", vjust=-0.2, label_size=16, align='h', scale=0.93, \n",
    "  rel_widths=c(1, 1, 1.5))\n",
    "\n",
    "saveShowPlot(p.sup.tsne.merge, width=10, height=3)"
   ]
  },
  {
   "cell_type": "markdown",
   "metadata": {},
   "source": [
    "## Constructing single-cell trajectories\n",
    "The clustering above already made clear that the supervised clustering works better than the unsupervised clustering since we strongly know what we are looking for (influenza gene expression).\n",
    "So here we build semi-supervised trajectories."
   ]
  },
  {
   "cell_type": "code",
   "execution_count": null,
   "metadata": {},
   "outputs": [],
   "source": [
    "flu.cells <- cells[, row.names(subset(pData(cells), infected))]\n",
    "ordering_genes <- row.names(subset(fData(flu.cells), gene_short_name %in% flugenes))\n",
    "flu.cells <- setOrderingFilter(flu.cells, ordering_genes)\n",
    "flu.cells <- reduceDimension(flu.cells, max_components=2)#, method='DDRTree', norm_method='log')\n",
    "flu.cells <- orderCells(flu.cells)\n",
    "p.pseudo.trajectory <- plot_cell_trajectory(flu.cells, color_by=\"CellType\") + theme(legend.position=\"right\")\n",
    "saveShowPlot(p.pseudo.trajectory, width=5, height=3)"
   ]
  },
  {
   "cell_type": "markdown",
   "metadata": {},
   "source": [
    "## Find genes that vary as a function of the influenza burden\n",
    "We look for genes that differ in expression as a function of the fraction of their mRNAs derived from influenza.\n",
    "\n",
    "There are several ways to do this.\n",
    "\n",
    "First, we do the simplest way: we simply run a differential gene expression test after regressing out the *Sample*:"
   ]
  },
  {
   "cell_type": "code",
   "execution_count": null,
   "metadata": {},
   "outputs": [],
   "source": [
    "diff.expr <- differentialGeneTest(cells, fullModelFormulaStr=\"~Sample + frac.flu.mRNAs\", \n",
    "  reducedModelFormulaStr=\"~Sample\")"
   ]
  },
  {
   "cell_type": "markdown",
   "metadata": {},
   "source": [
    "Now we run a differential gene expression test but use *Size Factors* that are estimated **excluding** the influenza mRNAs.\n",
    "The idea here is to avoid trivial trends due to their being fewer relative cellular mRNAs when some of the mRNAs come from influenza. \n",
    "This analysis should only look at relative changes in the composition of the cellular mRNA pool during influenza infection."
   ]
  },
  {
   "cell_type": "code",
   "execution_count": null,
   "metadata": {},
   "outputs": [],
   "source": [
    "noflu.SF <- estimateSizeFactors(cells[row.names(subset(fData(cells), \n",
    "  !(gene_short_name %in% flugenes))), ])$Size_Factor\n",
    "cells.noflu.SF <- cells\n",
    "cells.noflu.SF$Size_Factor <- noflu.SF\n",
    "diff.expr.noflu <- differentialGeneTest(cells.noflu.SF, \n",
    "  fullModelFormulaStr=\"~Sample + frac.flu.mRNAs\", reducedModelFormulaStr=\"~Sample\")"
   ]
  },
  {
   "cell_type": "markdown",
   "metadata": {},
   "source": [
    "Now we run each test (*Size Factors* with and without influenza reads) looking at only *fully infected* cells. \n",
    "The idea is here is to avoid differences in influenza burden due to incomplete infection and concentrate on factors not explained by the absence of viral genomic segments."
   ]
  },
  {
   "cell_type": "code",
   "execution_count": null,
   "metadata": {},
   "outputs": [],
   "source": [
    "cells.fullinfect <- cells[, row.names(subset(pData(cells), fully.infected))]\n",
    "diff.expr.fullinfect <- differentialGeneTest(cells.fullinfect, \n",
    "  fullModelFormulaStr=\"~Sample + frac.flu.mRNAs\", reducedModelFormulaStr=\"~Sample\")\n",
    "\n",
    "cells.fullinfect.noflu.SF <- cells.noflu.SF[,\n",
    "  row.names(subset(pData(cells), fully.infected))]\n",
    "diff.expr.fullinfect.noflu.SF <- differentialGeneTest(cells.fullinfect.noflu.SF, \n",
    "  fullModelFormulaStr=\"~Sample + frac.flu.mRNAs\", reducedModelFormulaStr=\"~Sample\")"
   ]
  },
  {
   "cell_type": "code",
   "execution_count": null,
   "metadata": {
    "collapsed": true
   },
   "outputs": [],
   "source": [
    "help(diff)"
   ]
  },
  {
   "cell_type": "code",
   "execution_count": null,
   "metadata": {
    "collapsed": true
   },
   "outputs": [],
   "source": []
  }
 ],
 "metadata": {
  "kernelspec": {
   "display_name": "R",
   "language": "R",
   "name": "ir"
  },
  "language_info": {
   "codemirror_mode": "r",
   "file_extension": ".r",
   "mimetype": "text/x-r-source",
   "name": "R",
   "pygments_lexer": "r",
   "version": "3.4.0"
  }
 },
 "nbformat": 4,
 "nbformat_minor": 1
}
