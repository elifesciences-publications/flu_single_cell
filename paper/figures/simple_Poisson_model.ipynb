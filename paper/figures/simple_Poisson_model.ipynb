{
 "cells": [
  {
   "cell_type": "markdown",
   "metadata": {
    "toc": true
   },
   "source": [
    "<h1>Table of Contents<span class=\"tocSkip\"></span></h1>\n",
    "<div class=\"toc\" style=\"margin-top: 1em;\"><ul class=\"toc-item\"><li><span><a href=\"#Heterogeneity-in-viral-infection-expected-under-simple-Poisson-model\" data-toc-modified-id=\"Heterogeneity-in-viral-infection-expected-under-simple-Poisson-model-1\">Heterogeneity in viral infection expected under simple Poisson model</a></span><ul class=\"toc-item\"><li><span><a href=\"#Overview-of-model-assumptions\" data-toc-modified-id=\"Overview-of-model-assumptions-1.1\">Overview of model assumptions</a></span></li><li><span><a href=\"#Detailed-model\" data-toc-modified-id=\"Detailed-model-1.2\">Detailed model</a></span></li><li><span><a href=\"#Defining-the-model-parameters\" data-toc-modified-id=\"Defining-the-model-parameters-1.3\">Defining the model parameters</a></span></li><li><span><a href=\"#The-expected-distributions-for-each-sample-under-the-simple-model\" data-toc-modified-id=\"The-expected-distributions-for-each-sample-under-the-simple-model-1.4\">The expected distributions for each sample under the simple model</a></span></li><li><span><a href=\"#Conclusions\" data-toc-modified-id=\"Conclusions-1.5\">Conclusions</a></span></li></ul></li></ul></div>"
   ]
  },
  {
   "cell_type": "markdown",
   "metadata": {},
   "source": [
    "# Heterogeneity in viral infection expected under simple Poisson model\n",
    "\n",
    "This Jupyter notebook contains an analysis of the heterogeneity expected under some simple assumptions for the paper \"Extreme heterogeneity of influenza virus infection in single cells\" by Alistair Russell, Cole Trapnell, and Jesse Bloom.\n",
    "\n",
    "## Overview of model assumptions\n",
    "We build a simple Poisson model for the expected heterogeneity under the following assumptions:\n",
    "\n",
    "1. Infection is a Poisson process\n",
    "\n",
    "2. Cells infected with a single virion with the full RNP express a given number of viral mRNAs, and cells infected with a single virion lacking an RNP gene express another number of viral mRNAs.\n",
    "\n",
    "3. Cells that are co-infected simply express a number of viral mRNAs proportional to the number of infecting virions. For instance, doubly infected cells express twice as much viral mRNA as singly infected cells.\n",
    "\n",
    "4. Each cell also has a fixed amount of cellular mRNA, and the amount of viral mRNA is added to this.\n",
    "\n",
    "Note that this is a simple model that **we do not think accurately reflects reality.**\n",
    "The goal of this model is to determine how much heterogeneity we expect under the simplest scenario.\n",
    "\n",
    "## Detailed model\n",
    "Let a fraction $x_{full}$ of the virions have the full vRNP, implying that fraction $1 - x_{full}$ lack an RNP gene.\n",
    "\n",
    "Let the $\\langle v \\rangle$ be the mean number of virions of any type (full or partial RNP) that infects the typical cell. \n",
    "Since we assume infection is Poisson, the distribution of the number of full-RNP virions $v_{full}$ per cell is $$\\Pr\\left(v_{full}\\right) = e^{\\langle v \\rangle x_{full}} \\times \\frac{\\left(\\langle v \\rangle x_{full}\\right)^{v_{full}}}{v_{full}!}$$\n",
    "and the distribution of the number of partial-RNP virions $v_{partial}$ per cell is\n",
    "$$\\Pr\\left(v_{partial}\\right) = e^{\\langle v \\rangle \\left(1 - x_{full}\\right)} \\times \\frac{\\left(\\langle v \\rangle \\left(1 - x_{full}\\right)\\right)^{v_{partial}}}{v_{partial}!}.$$\n",
    "Since infection is a Poisson process, the probability that a cell is infected by $v_{full}$ full-RNP virions and $v_{partial}$ partial-RNP virions is simply\n",
    "$$\\Pr\\left(v_{full}, v_{partial}\\right) = \\Pr\\left(v_{full}\\right) \\times \\Pr\\left(v_{partial}\\right).$$\n",
    "\n",
    "Let each cell have $n_{cell}$ cellular mRNAs.\n",
    "Let each full-RNP virion add $n_{full}$ viral mRNAs, and let each partial-RNP virion add $n_{partial}$ viral mRNAs.\n",
    "The overall fraction $f_{viral}$ of mRNA from virus cell if a cell is infected by $v_{full}$ full-RNP virions and $v_{partial}$ partial-RNP virions is simply\n",
    "$$f_{viral} = \\frac{v_{full}n_{full} + v_{partial}n_{partial}}{n_{cell} + v_{full}n_{full} + v_{partial}n_{partial}}.$$\n",
    "\n",
    "We then simply want to determine the distribution of $f_{viral}$ across cells among all cells that are infected (have $v_{full} + v_{partial} > 0$.\n",
    "\n",
    "Below we define the functions described above:"
   ]
  },
  {
   "cell_type": "code",
   "execution_count": 1,
   "metadata": {},
   "outputs": [],
   "source": [
    "import math\n",
    "\n",
    "def f_viral(n_cell, n_full, n_partial, v_full, v_partial):\n",
    "    \"\"\"Total fraction of mRNA from virus\"\"\"\n",
    "    numerator = (v_full * n_full + v_partial * n_partial)\n",
    "    return numerator / float(numerator + n_cell)\n",
    "\n",
    "def Pr_virions(v_mean, x_full, v_full, v_partial):\n",
    "    \"\"\"Probability `v_full` and `v_partial` full and partial virions infect cell\"\"\"\n",
    "    full_mean = v_mean * x_full\n",
    "    pr_full = math.exp(full_mean) * (full_mean)**v_full / math.factorial(v_full)\n",
    "    part_mean = v_mean * (1 - x_full)\n",
    "    pr_part = math.exp(part_mean) * (part_mean)**v_partial / math.factorial(v_partial)\n",
    "    return pr_full * pr_part"
   ]
  },
  {
   "cell_type": "markdown",
   "metadata": {},
   "source": [
    "## Defining the model parameters\n",
    "We define the model parameters based on the data in our experiments.\n",
    "Most of these parameters we define separately for each of the three samples (*10hr*, *8hr*, and *8hr-2*) that have substantial amounts of infection.\n",
    "The actual parameters are in the cell below.\n",
    "\n",
    "First, we estimate $\\langle v \\rangle$.\n",
    "In our experiments, among the cells that are infected, we observe about 10\\% of them to have mixed viral barcodes.\n",
    "Our mixed barcodes will detect about half the co-infections, so we estimate that infected cells have about a 20\\% chance of being co-infected. \n",
    "Based on this, we estimate $\\langle v \\rangle = 0.2$, which means that the typical cell gets about 0.2 virions (this is essentially the estimate by assuming that all cells are either singly or doubly infected, and neglecting higher-order infections, which is reasonable since most cells are not multiply infected).\n",
    "Note that this estimate is not entirely consistent with the fraction of cells that exhibit any evidence of infection, indicating the assumption of Poisson infection is unlikely to be fully true.\n",
    "But we are building the model under that assumption.\n",
    "\n",
    "We define $x_{full}$ differently for each sample based on the observed fraction of infected cells with full RNP complements.\n",
    "\n",
    "To set $n_{cell}$, $n_{full}$, and $n_{partial}$, note that ultimately the units on these does not matter as they are simply used to calculate the fraction $f_{viral}$.\n",
    "So we simply set $n_{cell} = 1$. \n",
    "We then estimate $n_{full}$ and $n_{partial}$ as the median fraction of mRNA from virus among cells infected with the full and partial complement of viral genes.\n",
    "The rationale here is that most cells are infected with just a single virion, and so the median cell with a full RNP complement got just one full-RNP virion, and the median cell with a partial RNP complement got just one partial-RNP virion.\n",
    "This justifies setting these numbers as the median fractions of mRNA from virus (assuming $n_{cell} \\gg n_{full}, n_{partial}$ so that we ignore the inflation in total mRNA due to viral infection); it would not be justified to set them as the means as the mean would be influenced by co-infections.\n",
    "The estimates differ across timepoints (as expected since more viral mRNA will be made at later times)."
   ]
  },
  {
   "cell_type": "code",
   "execution_count": 2,
   "metadata": {},
   "outputs": [],
   "source": [
    "samples = ['10hr', '8hr', '8hr-2']\n",
    "\n",
    "params = {\n",
    "    'v_mean':0.2,\n",
    "    'n_cell':1.0,\n",
    "    '10hr':{\n",
    "        'x_full':0.67,\n",
    "        'n_full':0.11,\n",
    "        'n_partial':0.0051,\n",
    "        },\n",
    "     '8hr':{\n",
    "        'x_full':0.43,\n",
    "        'n_full':0.016,\n",
    "        'n_partial':0.0014,\n",
    "        },\n",
    "     '8hr-2':{\n",
    "        'x_full':0.42,\n",
    "        'n_full':0.042,\n",
    "        'n_partial':0.0011,\n",
    "        }\n",
    "    }"
   ]
  },
  {
   "cell_type": "markdown",
   "metadata": {},
   "source": [
    "## The expected distributions for each sample under the simple model\n",
    "\n",
    "Now we plot the expected distribution of viral mRNA per cell under the simple model.\n",
    "Rather than trying to solve the model exactly, we just enumerate over all combinations of possible infections allowing up to 20 virions per cell (which is far more than expected to occur at any non-infinitesemial frequency with a Poisson infection process and a mean of $<$1).\n",
    "\n",
    "We calculate the [Gini coefficient](https://en.wikipedia.org/wiki/Gini_coefficient) using the [IneqPy](https://pypi.python.org/pypi/IneqPy/0.0.2) package."
   ]
  },
  {
   "cell_type": "code",
   "execution_count": 3,
   "metadata": {},
   "outputs": [
    {
     "name": "stdout",
     "output_type": "stream",
     "text": [
      "\n",
      "Performing analysis for sample 10hr\n",
      "The Gini coefficient is 0.77\n",
      "Here is a plot of the distribution:\n"
     ]
    },
    {
     "data": {
      "image/png": "[encoded data removed]",
      "text/plain": [
       "<matplotlib.figure.Figure at 0x105da32e8>"
      ]
     },
     "metadata": {},
     "output_type": "display_data"
    },
    {
     "name": "stdout",
     "output_type": "stream",
     "text": [
      "\n",
      "Performing analysis for sample 8hr\n",
      "The Gini coefficient is 0.75\n",
      "Here is a plot of the distribution:\n"
     ]
    },
    {
     "data": {
      "image/png": "[encoded data removed]",
      "text/plain": [
       "<matplotlib.figure.Figure at 0x107e88cf8>"
      ]
     },
     "metadata": {},
     "output_type": "display_data"
    },
    {
     "name": "stdout",
     "output_type": "stream",
     "text": [
      "\n",
      "Performing analysis for sample 8hr-2\n",
      "The Gini coefficient is 0.87\n",
      "Here is a plot of the distribution:\n"
     ]
    },
    {
     "data": {
      "image/png": "[encoded data removed]",
      "text/plain": [
       "<matplotlib.figure.Figure at 0x107dd75f8>"
      ]
     },
     "metadata": {},
     "output_type": "display_data"
    }
   ],
   "source": [
    "import itertools\n",
    "import numpy\n",
    "from ineqpy import gini\n",
    "%matplotlib inline\n",
    "import seaborn\n",
    "import matplotlib.pyplot as plt\n",
    "\n",
    "vmax = 20\n",
    "\n",
    "for s in samples:\n",
    "    print(\"\\nPerforming analysis for sample {0}\".format(s))\n",
    "    weights = []\n",
    "    viralfracs = []\n",
    "    for (v_full, v_partial) in itertools.permutations(range(vmax + 1), 2):\n",
    "        if v_full == v_partial == 0:\n",
    "            continue\n",
    "        weights.append(Pr_virions(params['v_mean'],\n",
    "                                  params[s]['x_full'], \n",
    "                                  v_full, \n",
    "                                  v_partial))\n",
    "        viralfracs.append(f_viral(params['n_cell'],\n",
    "                                  params[s]['n_full'],\n",
    "                                  params[s]['n_partial'],\n",
    "                                  v_full,\n",
    "                                  v_partial))\n",
    "    weights = numpy.array(weights)\n",
    "    viralfracs = numpy.array(viralfracs)\n",
    "    \n",
    "    ginicoeff = gini(income=viralfracs, weights=weights)\n",
    "    print(\"The Gini coefficient is {0:.2f}\".format(ginicoeff))\n",
    "    \n",
    "    print(\"Here is a plot of the distribution:\")\n",
    "    seaborn.distplot(viralfracs, kde=False, bins=50, hist_kws={'weights':weights})\n",
    "    plt.xlabel('fraction of mRNA from virus among infected cells')\n",
    "    plt.show()"
   ]
  },
  {
   "cell_type": "markdown",
   "metadata": {},
   "source": [
    "## Conclusions\n",
    "The simple model can generate highly heterogeneous distributions, with Gini coefficients as large or larger than those observed in the real data. \n",
    "However, the simple model still does not capture the continuous skew observed in the real data.\n",
    "Under the simple model there are two main peaks: cells infected with a virion lacking RNP, and cells infected with a virion with full RNP. \n",
    "There are then a few more minor peaks for double infections, and almost nothing beyond that since the MOI is so low.\n",
    "\n",
    "In contrast, in the real data there is very broad spread, indicating additional processes layered on top of these sources of variability.\n",
    "Specifically, there must be additional viral, host, or stochastic factors that also spread out the amount of viral mRNA produced even in cells that do or do not receive the full RNP complement of genes."
   ]
  },
  {
   "cell_type": "code",
   "execution_count": null,
   "metadata": {
    "collapsed": true
   },
   "outputs": [],
   "source": []
  }
 ],
 "metadata": {
  "kernelspec": {
   "display_name": "Python 3",
   "language": "python",
   "name": "python3"
  },
  "language_info": {
   "codemirror_mode": {
    "name": "ipython",
    "version": 3
   },
   "file_extension": ".py",
   "mimetype": "text/x-python",
   "name": "python",
   "nbconvert_exporter": "python",
   "pygments_lexer": "ipython3",
   "version": "3.5.2"
  },
  "toc": {
   "nav_menu": {},
   "number_sections": false,
   "sideBar": true,
   "skip_h1_title": false,
   "toc_cell": true,
   "toc_position": {},
   "toc_section_display": "none",
   "toc_window_display": true
  }
 },
 "nbformat": 4,
 "nbformat_minor": 2
}
